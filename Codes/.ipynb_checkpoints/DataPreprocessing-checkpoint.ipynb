{
 "cells": [
  {
   "cell_type": "code",
   "execution_count": null,
   "id": "5733c18c",
   "metadata": {},
   "outputs": [],
   "source": [
    "# PDF Link : https://drive.google.com/file/d/14Jl288loWkURMUJGKlG9sphMGsHU7O9p/view?usp=sharing.\n",
    "# Image dataset: https://drive.google.com/drive/folders/1sF6xhVP4l95vGNLb6L3UmQ7DAu1IE_AU?usp=sharing\n",
    "#                (Copy image_dataset folder to Datasets folder to run this cell.)\n",
    "\n",
    "from PIL import Image\n",
    "import pytesseract as pt\n",
    "import os\n",
    "\n",
    "def main():\n",
    "    # path for the folder for getting the raw images\n",
    "    path =\"../Datasets/image_dataset\"\n",
    "   \n",
    "    # path for the folder for getting the output \n",
    "    tempPath =\"texts\"\n",
    "    count = 0\n",
    "    file1 = open('../Datasets/ramayana.txt', \"w\", encoding='utf-8')\n",
    "    # iterating the images inside the folder \n",
    "    for imageName in os.listdir(path): \n",
    "        count +=1\n",
    "        print(count)\n",
    "        #print (\"-----------------------------\")\n",
    "              \n",
    "        inputPath = os.path.join(path, imageName) \n",
    "        img = Image.open(inputPath)\n",
    "  \n",
    "        # applying ocr using pytesseract for python \n",
    "        text = pt.image_to_string(img, lang =\"hin\") \n",
    "  \n",
    "        # for removing the .jpg from the imagePath \n",
    "        imageName = imageName[0:-4]\n",
    "  \n",
    "        # saving the  text for every image in a separate .txt file \n",
    "        file1.write(text)\n",
    "        file1.write('\\n')\n",
    "    file1.close()  \n",
    "  \n",
    "if __name__ == '__main__': \n",
    "    main()"
   ]
  },
  {
   "cell_type": "code",
   "execution_count": null,
   "id": "16c202c0",
   "metadata": {},
   "outputs": [],
   "source": [
    "import ujson as json\n",
    "import re\n",
    "with open ('../Datasets/ramayana.txt', 'r') as file_fp:\n",
    "    temp = file_fp.readlines()"
   ]
  },
  {
   "cell_type": "code",
   "execution_count": null,
   "id": "65b56237",
   "metadata": {},
   "outputs": [],
   "source": [
    "split_regex = re.compile(r'[॥]')\n",
    "intermediate_string = \"\"\n",
    "sarg_regex = r'सर्ग'"
   ]
  },
  {
   "cell_type": "code",
   "execution_count": null,
   "id": "4887a5e7",
   "metadata": {},
   "outputs": [],
   "source": [
    "chapter = []\n",
    "sarg_dictionary = {}\n",
    "count = 0\n",
    "for i in range(0, len(temp)):\n",
    "\n",
    "#    print (temp[i])\n",
    "    if (len(temp[i].split()) == 2):\n",
    "        if (temp[i].find(sarg_regex) != -1):\n",
    "#            print (temp[i])\n",
    "            print (\"****\")\n",
    "            print (count)\n",
    "            print (chapter)\n",
    "            sarg_dictionary[count] = chapter\n",
    "            print (\"****\")\n",
    "            count = count+1\n",
    "            chapter = []\n",
    "            continue\n",
    "\n",
    "    regex_out = temp[i].find(chr(2405))\n",
    "    #regex_out = -1\n",
    "    #print (regex_out)\n",
    "    if (regex_out != -1):\n",
    "        temp_string = temp[i].split('॥')\n",
    "        intermediate_string += temp_string[0]\n",
    "        chapter.append(intermediate_string)\n",
    "        intermediate_string = \"\"\n",
    "        continue\n",
    "    intermediate_string += temp[i]"
   ]
  },
  {
   "cell_type": "code",
   "execution_count": null,
   "id": "e2e8d752",
   "metadata": {},
   "outputs": [],
   "source": [
    "c_count = 0\n",
    "#print (sarg_dictionary)\n",
    "\n",
    "for key,value in sarg_dictionary.items():\n",
    "    c_count = c_count+1\n",
    "    print (\"Chapter = \"+str(c_count))\n",
    "    temp_chapter = sarg_dictionary[key]\n",
    "    s_count = 0\n",
    "    for i in temp_chapter:\n",
    "        s_count = s_count+1\n",
    "        print (\"shlok = \"+str(s_count))\n",
    "        print (i)\n"
   ]
  },
  {
   "cell_type": "code",
   "execution_count": null,
   "id": "73da83cf",
   "metadata": {},
   "outputs": [],
   "source": [
    "data = sarg_dictionary"
   ]
  },
  {
   "cell_type": "code",
   "execution_count": 7,
   "id": "a80d3e24",
   "metadata": {},
   "outputs": [],
   "source": [
    "hnumlist = [\"०\",\"१\",\"२\",\"३\",\"४\",\"५\",\"६\",\"७\",\"८\",\"९\", \"£\", ':', '1', '2', '3', '4', '5', '6', '7', '8', '9', '0']"
   ]
  },
  {
   "cell_type": "code",
   "execution_count": 2,
   "id": "aef7556e",
   "metadata": {
    "scrolled": false
   },
   "outputs": [],
   "source": [
    "cleaned_dict = {}\n",
    "for key, value in data.items():   \n",
    "    chap1 = value\n",
    "    schap1 = []\n",
    "    for line in chap1:\n",
    "        tline = line.strip()\n",
    "        tline = tline.replace('\\n', ' ')\n",
    "        tline = tline.replace('\\u200c', '')\n",
    "        tline = tline.replace('\\u200d', '')\n",
    "        if tline in hnumlist and tline in chap1:\n",
    "            chap1.remove(tline)\n",
    "        for char in tline:\n",
    "            if char in hnumlist:\n",
    "                tline = tline.replace(char, '')\n",
    "        schap1.append(tline)\n",
    "    schap1 = list(filter(None, schap1))\n",
    "    cleaned_dict[key] = schap1\n",
    "del cleaned_dict[\"0\"]"
   ]
  },
  {
   "cell_type": "code",
   "execution_count": 14,
   "id": "a999fd13",
   "metadata": {},
   "outputs": [],
   "source": [
    "endidx = {}\n",
    "for key, value in cleaned_dict.items():\n",
    "    temp = []\n",
    "    for line in value:\n",
    "        if line.startswith('इस प्रकार श्री') and line.endswith('हुआ'):\n",
    "            temp.append(line)\n",
    "            temp.append(value.index(line))\n",
    "            endidx[key] = temp"
   ]
  },
  {
   "cell_type": "code",
   "execution_count": 1,
   "id": "e0deaf86",
   "metadata": {},
   "outputs": [],
   "source": [
    "cleaned_data = {}\n",
    "for key, value in cleaned_dict.items():\n",
    "    for ekey, evalue in endidx.items():\n",
    "        if key == ekey:\n",
    "            idx = endidx[key][1]\n",
    "    cleaned_data[key] = value[:idx]"
   ]
  },
  {
   "cell_type": "code",
   "execution_count": 17,
   "id": "8a536098",
   "metadata": {},
   "outputs": [],
   "source": [
    "import json\n",
    "with open('../Datasets/RamayanaHi.json', 'w') as fp:\n",
    "    json.dump(cleaned_data, fp)"
   ]
  }
 ],
 "metadata": {
  "kernelspec": {
   "display_name": "Python 3 (ipykernel)",
   "language": "python",
   "name": "python3"
  },
  "language_info": {
   "codemirror_mode": {
    "name": "ipython",
    "version": 3
   },
   "file_extension": ".py",
   "mimetype": "text/x-python",
   "name": "python",
   "nbconvert_exporter": "python",
   "pygments_lexer": "ipython3",
   "version": "3.10.1"
  }
 },
 "nbformat": 4,
 "nbformat_minor": 5
}
